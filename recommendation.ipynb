{
  "nbformat": 4,
  "nbformat_minor": 0,
  "metadata": {
    "colab": {
      "name": "recommendation.ipynb",
      "version": "0.3.2",
      "provenance": [],
      "include_colab_link": true
    },
    "kernelspec": {
      "name": "python3",
      "display_name": "Python 3"
    }
  },
  "cells": [
    {
      "cell_type": "markdown",
      "metadata": {
        "id": "view-in-github",
        "colab_type": "text"
      },
      "source": [
        "<a href=\"https://colab.research.google.com/github/mirsahib/Rotten_Pumkin_Dataset/blob/master/recommendation.ipynb\" target=\"_parent\"><img src=\"https://colab.research.google.com/assets/colab-badge.svg\" alt=\"Open In Colab\"/></a>"
      ]
    },
    {
      "cell_type": "code",
      "metadata": {
        "id": "PCJbv8v2IQnv",
        "colab_type": "code",
        "colab": {}
      },
      "source": [
        "import pandas as pd\n",
        "from matplotlib import pyplot as plt"
      ],
      "execution_count": 0,
      "outputs": []
    },
    {
      "cell_type": "code",
      "metadata": {
        "id": "OuWzpyX0IU37",
        "colab_type": "code",
        "colab": {}
      },
      "source": [
        "rating = pd.read_csv('https://raw.githubusercontent.com/mirsahib/Rotten_Pumkin_Dataset/master/ml-latest-small/ratings.csv') "
      ],
      "execution_count": 0,
      "outputs": []
    },
    {
      "cell_type": "code",
      "metadata": {
        "id": "z_PDuHjJIqDM",
        "colab_type": "code",
        "colab": {
          "base_uri": "https://localhost:8080/",
          "height": 35
        },
        "outputId": "f0cfa341-5513-4371-a687-b2f2153d3154"
      },
      "source": [
        "rating.head()\n",
        "rating.shape"
      ],
      "execution_count": 69,
      "outputs": [
        {
          "output_type": "execute_result",
          "data": {
            "text/plain": [
              "(100836, 4)"
            ]
          },
          "metadata": {
            "tags": []
          },
          "execution_count": 69
        }
      ]
    },
    {
      "cell_type": "code",
      "metadata": {
        "id": "VuFATtf6KbsI",
        "colab_type": "code",
        "colab": {}
      },
      "source": [
        "def ratingFreq():\n",
        "  df = rating.values[:,1].astype(int).tolist()\n",
        "  df1 = pd.Series(df).value_counts().reset_index().sort_values('index').reset_index(drop=True)\n",
        "  df1.columns = ['Movie Id', 'Frequency']\n",
        "  return df1"
      ],
      "execution_count": 0,
      "outputs": []
    },
    {
      "cell_type": "code",
      "metadata": {
        "id": "lbjWrV60LkNY",
        "colab_type": "code",
        "colab": {
          "base_uri": "https://localhost:8080/",
          "height": 35
        },
        "outputId": "d84c3200-34c9-4e46-a98a-7467681bfbea"
      },
      "source": [
        "movWithRat = ratingFreq()\n",
        "movWithRat.shape"
      ],
      "execution_count": 44,
      "outputs": [
        {
          "output_type": "execute_result",
          "data": {
            "text/plain": [
              "(9724, 2)"
            ]
          },
          "metadata": {
            "tags": []
          },
          "execution_count": 44
        }
      ]
    },
    {
      "cell_type": "code",
      "metadata": {
        "id": "ZNffWqKzLmYQ",
        "colab_type": "code",
        "colab": {}
      },
      "source": [
        "newList = []\n",
        "for i in range (0,len(movWithRat)):\n",
        "  if movWithRat.values[i][1]>50:\n",
        "    newList.append(movWithRat.values[i].astype(int))"
      ],
      "execution_count": 0,
      "outputs": []
    },
    {
      "cell_type": "code",
      "metadata": {
        "id": "BT4g2PTnVDn9",
        "colab_type": "code",
        "colab": {}
      },
      "source": [
        "hrm = pd.DataFrame(newList,columns=['movie id','freq'])#highly rated movie (movie with rating freq >50)\n",
        "hrm = hrm['movie id']"
      ],
      "execution_count": 0,
      "outputs": []
    },
    {
      "cell_type": "code",
      "metadata": {
        "id": "y20Je54IVYOw",
        "colab_type": "code",
        "colab": {}
      },
      "source": [
        "newList1 = []\n",
        "for i in range(0,len(rating)):\n",
        "  if rating.values[i][1] in hrm:\n",
        "    newList1.append(rating.values[i].astype(int))"
      ],
      "execution_count": 0,
      "outputs": []
    },
    {
      "cell_type": "code",
      "metadata": {
        "id": "pJWSE4slZWro",
        "colab_type": "code",
        "colab": {}
      },
      "source": [
        "movie = pd.DataFrame(newList1,columns = ['userId','movieId','rating','timestamp'])"
      ],
      "execution_count": 0,
      "outputs": []
    },
    {
      "cell_type": "code",
      "metadata": {
        "id": "dMZ4G-6HchJp",
        "colab_type": "code",
        "colab": {
          "base_uri": "https://localhost:8080/",
          "height": 35
        },
        "outputId": "2c8e75cf-1ee9-4fcd-a888-9819af2a6b8f"
      },
      "source": [
        "movie.head()\n",
        "movie.shape"
      ],
      "execution_count": 65,
      "outputs": [
        {
          "output_type": "execute_result",
          "data": {
            "text/plain": [
              "(12191, 4)"
            ]
          },
          "metadata": {
            "tags": []
          },
          "execution_count": 65
        }
      ]
    },
    {
      "cell_type": "code",
      "metadata": {
        "id": "aBwUf99lc9ng",
        "colab_type": "code",
        "colab": {}
      },
      "source": [
        "from google.colab import files\n",
        "movie.to_csv('short_movie_list.csv',index=False)\n",
        "files.download('short_movie_list.csv')"
      ],
      "execution_count": 0,
      "outputs": []
    },
    {
      "cell_type": "code",
      "metadata": {
        "id": "I1jL2ZW5dwN4",
        "colab_type": "code",
        "colab": {}
      },
      "source": [
        ""
      ],
      "execution_count": 0,
      "outputs": []
    }
  ]
}